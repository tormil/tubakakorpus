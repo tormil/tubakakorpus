{
 "cells": [
  {
   "cell_type": "code",
   "execution_count": 1,
   "id": "a2f8046b-cb4f-401c-a6f7-e017bdc9490f",
   "metadata": {},
   "outputs": [],
   "source": [
    "#Siinses töös on mul andmestiku muretsemine ja analüüsimine kahes erifailis, kuna andmestiku kättesaamiseks on mul vaja JupyterLab'i siseselt käske kasutada.\n",
    "#Juhendi järgi võtan siit väikse andmestiku, millega tegeleda RStudio's edasi.\n",
    "\n",
    "#Kasutasin siinset juhendit: https://digilab.rara.ee/tooriistad/ligipaas-dea-tekstidele/\n",
    "\n",
    "suppressPackageStartupMessages(library(digar.txts,lib.loc=\"/gpfs/space/projects/digar_txt/R/4.3/\"))\n",
    "suppressPackageStartupMessages(library(tidyverse,lib.loc=\"/gpfs/space/projects/digar_txt/R/4.3/\"))\n",
    "suppressPackageStartupMessages(library(tidytext,lib.loc=\"/gpfs/space/projects/digar_txt/R/4.3/\"))\n",
    "library(dplyr)\n",
    "library(ggplot2)\n",
    "library(stringr)\n",
    "library(tidyverse)"
   ]
  },
  {
   "cell_type": "code",
   "execution_count": 2,
   "id": "6f710d13-6047-48ec-935d-b86a4bababac",
   "metadata": {},
   "outputs": [
    {
     "name": "stdout",
     "output_type": "stream",
     "text": [
      "[1] \"Issue metadata read\"\n"
     ]
    }
   ],
   "source": [
    "#Andmestiku sisu ülevaade\n",
    "all_issues <- get_digar_overview()\n",
    "\n",
    "#Oma valim/subset andmestikust, filtreerides ainult ajalehed aastavahemikus 1920-1939.\n",
    "subset <- all_issues %>%\n",
    "    filter(DocumentType == \"NEWSPAPER\") %>%\n",
    "    filter(year >= 1920 & year <= 1939)\n",
    "#   filter(LogicalSectionType == \"ADVERTISEMENT\")  "
   ]
  },
  {
   "cell_type": "code",
   "execution_count": 3,
   "id": "92d904cd-9cbc-4f0a-994d-d42c73f603a9",
   "metadata": {},
   "outputs": [
    {
     "data": {
      "text/html": [
       "<style>\n",
       ".list-inline {list-style: none; margin:0; padding: 0}\n",
       ".list-inline>li {display: inline-block}\n",
       ".list-inline>li:not(:last-child)::after {content: \"\\00b7\"; padding: 0 .5ex}\n",
       "</style>\n",
       "<ol class=list-inline><li>'data.table'</li><li>'data.frame'</li><li>'list'</li><li>'oldClass'</li><li>'vector'</li></ol>\n"
      ],
      "text/latex": [
       "\\begin{enumerate*}\n",
       "\\item 'data.table'\n",
       "\\item 'data.frame'\n",
       "\\item 'list'\n",
       "\\item 'oldClass'\n",
       "\\item 'vector'\n",
       "\\end{enumerate*}\n"
      ],
      "text/markdown": [
       "1. 'data.table'\n",
       "2. 'data.frame'\n",
       "3. 'list'\n",
       "4. 'oldClass'\n",
       "5. 'vector'\n",
       "\n",
       "\n"
      ],
      "text/plain": [
       "[1] \"data.table\" \"data.frame\" \"list\"       \"oldClass\"   \"vector\"    "
      ]
     },
     "metadata": {},
     "output_type": "display_data"
    },
    {
     "data": {
      "text/html": [
       "<style>\n",
       ".list-inline {list-style: none; margin:0; padding: 0}\n",
       ".list-inline>li {display: inline-block}\n",
       ".list-inline>li:not(:last-child)::after {content: \"\\00b7\"; padding: 0 .5ex}\n",
       "</style>\n",
       "<ol class=list-inline><li>129269</li><li>60</li></ol>\n"
      ],
      "text/latex": [
       "\\begin{enumerate*}\n",
       "\\item 129269\n",
       "\\item 60\n",
       "\\end{enumerate*}\n"
      ],
      "text/markdown": [
       "1. 129269\n",
       "2. 60\n",
       "\n",
       "\n"
      ],
      "text/plain": [
       "[1] 129269     60"
      ]
     },
     "metadata": {},
     "output_type": "display_data"
    },
    {
     "data": {
      "text/html": [
       "<style>\n",
       ".list-inline {list-style: none; margin:0; padding: 0}\n",
       ".list-inline>li {display: inline-block}\n",
       ".list-inline>li:not(:last-child)::after {content: \"\\00b7\"; padding: 0 .5ex}\n",
       "</style>\n",
       "<ol class=list-inline><li>'DocumentID'</li><li>'keyid'</li><li>'attrs'</li><li>'DocumentDate'</li><li>'DocumentTitle'</li><li>'DocumentType'</li><li>'series'</li><li>'DocumentNumber'</li><li>'DocumentVolume'</li><li>'pages'</li><li>'sections'</li><li>'pages_sections'</li><li>'dateraw'</li><li>'date'</li><li>'day'</li><li>'month'</li><li>'year'</li><li>'firstyear'</li><li>'lastyear'</li><li>'title'</li><li>'issues'</li><li>'zippath_pages'</li><li>'zippath_sections'</li><li>'basename_pages'</li><li>'basename_sections'</li><li>'access'</li><li>'user_access'</li><li>'latest_available'</li><li>'rights_en'</li><li>'rights_et'</li><li>'rights_ru'</li><li>'embargo_en'</li><li>'embargo_et'</li><li>'embargo_ru'</li><li>'language'</li><li>'country'</li><li>'notes_en'</li><li>'notes_et'</li><li>'notes_ru'</li><li>'permalink'</li><li>'place'</li><li>'publisher'</li><li>'section'</li><li>'type'</li><li>'ester_id'</li><li>'total_open'</li><li>'offlimits'</li><li>'access_now'</li><li>'temp'</li><li>'n_articles'</li><li>'n_pages'</li><li>'n_articles_lemmas'</li><li>'n_pages_lemmas'</li><li>'n_articles_metadata'</li><li>'n_pages_metadata'</li><li>'pages_exist'</li><li>'sections_exist'</li><li>'decade'</li><li>'zippath_pages_meta'</li><li>'zippath_sections_meta'</li></ol>\n"
      ],
      "text/latex": [
       "\\begin{enumerate*}\n",
       "\\item 'DocumentID'\n",
       "\\item 'keyid'\n",
       "\\item 'attrs'\n",
       "\\item 'DocumentDate'\n",
       "\\item 'DocumentTitle'\n",
       "\\item 'DocumentType'\n",
       "\\item 'series'\n",
       "\\item 'DocumentNumber'\n",
       "\\item 'DocumentVolume'\n",
       "\\item 'pages'\n",
       "\\item 'sections'\n",
       "\\item 'pages\\_sections'\n",
       "\\item 'dateraw'\n",
       "\\item 'date'\n",
       "\\item 'day'\n",
       "\\item 'month'\n",
       "\\item 'year'\n",
       "\\item 'firstyear'\n",
       "\\item 'lastyear'\n",
       "\\item 'title'\n",
       "\\item 'issues'\n",
       "\\item 'zippath\\_pages'\n",
       "\\item 'zippath\\_sections'\n",
       "\\item 'basename\\_pages'\n",
       "\\item 'basename\\_sections'\n",
       "\\item 'access'\n",
       "\\item 'user\\_access'\n",
       "\\item 'latest\\_available'\n",
       "\\item 'rights\\_en'\n",
       "\\item 'rights\\_et'\n",
       "\\item 'rights\\_ru'\n",
       "\\item 'embargo\\_en'\n",
       "\\item 'embargo\\_et'\n",
       "\\item 'embargo\\_ru'\n",
       "\\item 'language'\n",
       "\\item 'country'\n",
       "\\item 'notes\\_en'\n",
       "\\item 'notes\\_et'\n",
       "\\item 'notes\\_ru'\n",
       "\\item 'permalink'\n",
       "\\item 'place'\n",
       "\\item 'publisher'\n",
       "\\item 'section'\n",
       "\\item 'type'\n",
       "\\item 'ester\\_id'\n",
       "\\item 'total\\_open'\n",
       "\\item 'offlimits'\n",
       "\\item 'access\\_now'\n",
       "\\item 'temp'\n",
       "\\item 'n\\_articles'\n",
       "\\item 'n\\_pages'\n",
       "\\item 'n\\_articles\\_lemmas'\n",
       "\\item 'n\\_pages\\_lemmas'\n",
       "\\item 'n\\_articles\\_metadata'\n",
       "\\item 'n\\_pages\\_metadata'\n",
       "\\item 'pages\\_exist'\n",
       "\\item 'sections\\_exist'\n",
       "\\item 'decade'\n",
       "\\item 'zippath\\_pages\\_meta'\n",
       "\\item 'zippath\\_sections\\_meta'\n",
       "\\end{enumerate*}\n"
      ],
      "text/markdown": [
       "1. 'DocumentID'\n",
       "2. 'keyid'\n",
       "3. 'attrs'\n",
       "4. 'DocumentDate'\n",
       "5. 'DocumentTitle'\n",
       "6. 'DocumentType'\n",
       "7. 'series'\n",
       "8. 'DocumentNumber'\n",
       "9. 'DocumentVolume'\n",
       "10. 'pages'\n",
       "11. 'sections'\n",
       "12. 'pages_sections'\n",
       "13. 'dateraw'\n",
       "14. 'date'\n",
       "15. 'day'\n",
       "16. 'month'\n",
       "17. 'year'\n",
       "18. 'firstyear'\n",
       "19. 'lastyear'\n",
       "20. 'title'\n",
       "21. 'issues'\n",
       "22. 'zippath_pages'\n",
       "23. 'zippath_sections'\n",
       "24. 'basename_pages'\n",
       "25. 'basename_sections'\n",
       "26. 'access'\n",
       "27. 'user_access'\n",
       "28. 'latest_available'\n",
       "29. 'rights_en'\n",
       "30. 'rights_et'\n",
       "31. 'rights_ru'\n",
       "32. 'embargo_en'\n",
       "33. 'embargo_et'\n",
       "34. 'embargo_ru'\n",
       "35. 'language'\n",
       "36. 'country'\n",
       "37. 'notes_en'\n",
       "38. 'notes_et'\n",
       "39. 'notes_ru'\n",
       "40. 'permalink'\n",
       "41. 'place'\n",
       "42. 'publisher'\n",
       "43. 'section'\n",
       "44. 'type'\n",
       "45. 'ester_id'\n",
       "46. 'total_open'\n",
       "47. 'offlimits'\n",
       "48. 'access_now'\n",
       "49. 'temp'\n",
       "50. 'n_articles'\n",
       "51. 'n_pages'\n",
       "52. 'n_articles_lemmas'\n",
       "53. 'n_pages_lemmas'\n",
       "54. 'n_articles_metadata'\n",
       "55. 'n_pages_metadata'\n",
       "56. 'pages_exist'\n",
       "57. 'sections_exist'\n",
       "58. 'decade'\n",
       "59. 'zippath_pages_meta'\n",
       "60. 'zippath_sections_meta'\n",
       "\n",
       "\n"
      ],
      "text/plain": [
       " [1] \"DocumentID\"            \"keyid\"                 \"attrs\"                \n",
       " [4] \"DocumentDate\"          \"DocumentTitle\"         \"DocumentType\"         \n",
       " [7] \"series\"                \"DocumentNumber\"        \"DocumentVolume\"       \n",
       "[10] \"pages\"                 \"sections\"              \"pages_sections\"       \n",
       "[13] \"dateraw\"               \"date\"                  \"day\"                  \n",
       "[16] \"month\"                 \"year\"                  \"firstyear\"            \n",
       "[19] \"lastyear\"              \"title\"                 \"issues\"               \n",
       "[22] \"zippath_pages\"         \"zippath_sections\"      \"basename_pages\"       \n",
       "[25] \"basename_sections\"     \"access\"                \"user_access\"          \n",
       "[28] \"latest_available\"      \"rights_en\"             \"rights_et\"            \n",
       "[31] \"rights_ru\"             \"embargo_en\"            \"embargo_et\"           \n",
       "[34] \"embargo_ru\"            \"language\"              \"country\"              \n",
       "[37] \"notes_en\"              \"notes_et\"              \"notes_ru\"             \n",
       "[40] \"permalink\"             \"place\"                 \"publisher\"            \n",
       "[43] \"section\"               \"type\"                  \"ester_id\"             \n",
       "[46] \"total_open\"            \"offlimits\"             \"access_now\"           \n",
       "[49] \"temp\"                  \"n_articles\"            \"n_pages\"              \n",
       "[52] \"n_articles_lemmas\"     \"n_pages_lemmas\"        \"n_articles_metadata\"  \n",
       "[55] \"n_pages_metadata\"      \"pages_exist\"           \"sections_exist\"       \n",
       "[58] \"decade\"                \"zippath_pages_meta\"    \"zippath_sections_meta\""
      ]
     },
     "metadata": {},
     "output_type": "display_data"
    },
    {
     "data": {
      "text/html": [
       "<style>\n",
       ".list-inline {list-style: none; margin:0; padding: 0}\n",
       ".list-inline>li {display: inline-block}\n",
       ".list-inline>li:not(:last-child)::after {content: \"\\00b7\"; padding: 0 .5ex}\n",
       "</style>\n",
       "<ol class=list-inline><li>'PERIODICAL'</li><li>'NEWSPAPER'</li></ol>\n"
      ],
      "text/latex": [
       "\\begin{enumerate*}\n",
       "\\item 'PERIODICAL'\n",
       "\\item 'NEWSPAPER'\n",
       "\\end{enumerate*}\n"
      ],
      "text/markdown": [
       "1. 'PERIODICAL'\n",
       "2. 'NEWSPAPER'\n",
       "\n",
       "\n"
      ],
      "text/plain": [
       "[1] \"PERIODICAL\" \"NEWSPAPER\" "
      ]
     },
     "metadata": {},
     "output_type": "display_data"
    }
   ],
   "source": [
    "#Tutvun andmetega\n",
    "is(all_issues)\n",
    "dim(subset)\n",
    "#summary(all_issues)\n",
    "names(subset)\n",
    "#glimpse(subset)\n",
    "unique(all_issues$DocumentType)"
   ]
  },
  {
   "cell_type": "code",
   "execution_count": 4,
   "id": "9b296155-3e18-4404-8130-516b61d25eea",
   "metadata": {},
   "outputs": [
    {
     "name": "stderr",
     "output_type": "stream",
     "text": [
      "Warning message in data.table::fread(cmd = x, fill = T):\n",
      "“File '/tmp/Rtmp3kCRBA/file27e696b81047e' has size 0. Returning a NULL data.table.”\n",
      "Warning message in data.table::fread(cmd = x, fill = T):\n",
      "“File '/tmp/Rtmp3kCRBA/file27e69221ac81d' has size 0. Returning a NULL data.table.”\n",
      "Warning message in data.table::fread(cmd = x, fill = T):\n",
      "“File '/tmp/Rtmp3kCRBA/file27e6974892861' has size 0. Returning a NULL data.table.”\n"
     ]
    },
    {
     "data": {
      "text/html": [
       "<style>\n",
       ".list-inline {list-style: none; margin:0; padding: 0}\n",
       ".list-inline>li {display: inline-block}\n",
       ".list-inline>li:not(:last-child)::after {content: \"\\00b7\"; padding: 0 .5ex}\n",
       "</style>\n",
       "<ol class=list-inline><li>2484675</li><li>17</li></ol>\n"
      ],
      "text/latex": [
       "\\begin{enumerate*}\n",
       "\\item 2484675\n",
       "\\item 17\n",
       "\\end{enumerate*}\n"
      ],
      "text/markdown": [
       "1. 2484675\n",
       "2. 17\n",
       "\n",
       "\n"
      ],
      "text/plain": [
       "[1] 2484675      17"
      ]
     },
     "metadata": {},
     "output_type": "display_data"
    },
    {
     "data": {
      "text/html": [
       "<style>\n",
       ".list-inline {list-style: none; margin:0; padding: 0}\n",
       ".list-inline>li {display: inline-block}\n",
       ".list-inline>li:not(:last-child)::after {content: \"\\00b7\"; padding: 0 .5ex}\n",
       "</style>\n",
       "<ol class=list-inline><li>'.id'</li><li>'docid'</li><li>'LogicalSectionFirstPageID'</li><li>'LogicalSectionID'</li><li>'attrs'</li><li>'LogicalSectionTitle'</li><li>'LogicalSectionType'</li><li>'LogicalSectionViewURL'</li><li>'LogicalSectionTextWordCount'</li><li>'LogicalSectionPrevLogicalSectionID'</li><li>'LogicalSectionNextLogicalSectionID'</li><li>'PageOCRAccuracy'</li><li>'MeanOCRAccuracyVol'</li><li>'date'</li><li>'dateraw'</li><li>'year'</li><li>'decade'</li></ol>\n"
      ],
      "text/latex": [
       "\\begin{enumerate*}\n",
       "\\item '.id'\n",
       "\\item 'docid'\n",
       "\\item 'LogicalSectionFirstPageID'\n",
       "\\item 'LogicalSectionID'\n",
       "\\item 'attrs'\n",
       "\\item 'LogicalSectionTitle'\n",
       "\\item 'LogicalSectionType'\n",
       "\\item 'LogicalSectionViewURL'\n",
       "\\item 'LogicalSectionTextWordCount'\n",
       "\\item 'LogicalSectionPrevLogicalSectionID'\n",
       "\\item 'LogicalSectionNextLogicalSectionID'\n",
       "\\item 'PageOCRAccuracy'\n",
       "\\item 'MeanOCRAccuracyVol'\n",
       "\\item 'date'\n",
       "\\item 'dateraw'\n",
       "\\item 'year'\n",
       "\\item 'decade'\n",
       "\\end{enumerate*}\n"
      ],
      "text/markdown": [
       "1. '.id'\n",
       "2. 'docid'\n",
       "3. 'LogicalSectionFirstPageID'\n",
       "4. 'LogicalSectionID'\n",
       "5. 'attrs'\n",
       "6. 'LogicalSectionTitle'\n",
       "7. 'LogicalSectionType'\n",
       "8. 'LogicalSectionViewURL'\n",
       "9. 'LogicalSectionTextWordCount'\n",
       "10. 'LogicalSectionPrevLogicalSectionID'\n",
       "11. 'LogicalSectionNextLogicalSectionID'\n",
       "12. 'PageOCRAccuracy'\n",
       "13. 'MeanOCRAccuracyVol'\n",
       "14. 'date'\n",
       "15. 'dateraw'\n",
       "16. 'year'\n",
       "17. 'decade'\n",
       "\n",
       "\n"
      ],
      "text/plain": [
       " [1] \".id\"                                \"docid\"                             \n",
       " [3] \"LogicalSectionFirstPageID\"          \"LogicalSectionID\"                  \n",
       " [5] \"attrs\"                              \"LogicalSectionTitle\"               \n",
       " [7] \"LogicalSectionType\"                 \"LogicalSectionViewURL\"             \n",
       " [9] \"LogicalSectionTextWordCount\"        \"LogicalSectionPrevLogicalSectionID\"\n",
       "[11] \"LogicalSectionNextLogicalSectionID\" \"PageOCRAccuracy\"                   \n",
       "[13] \"MeanOCRAccuracyVol\"                 \"date\"                              \n",
       "[15] \"dateraw\"                            \"year\"                              \n",
       "[17] \"decade\"                            "
      ]
     },
     "metadata": {},
     "output_type": "display_data"
    }
   ],
   "source": [
    "#Võtan oma valimi metaandmed\n",
    "subset_meta <- get_subset_meta(subset)\n",
    "dim(subset_meta)\n",
    "names(subset_meta)"
   ]
  },
  {
   "cell_type": "code",
   "execution_count": 5,
   "id": "ea7e8ec3-212b-4ea2-9170-19a33d5f2df8",
   "metadata": {},
   "outputs": [],
   "source": [
    "#Märksõnaotsing oma valimist, märksõnadeks \"tubak\", \"pabeross\", \"sigar\" ning \"suits\", kus andmed on lemmatiseeritud.\n",
    "do_subset_search(searchterm = \"tubak|suits|sigar|pabeross\", searchfile = \"tubakaregex.txt\", subset, searchtype = \"lemmas\")"
   ]
  },
  {
   "cell_type": "code",
   "execution_count": 6,
   "id": "7d3da4e5-34bd-43a2-b94a-934d93f5bbc7",
   "metadata": {},
   "outputs": [
    {
     "name": "stderr",
     "output_type": "stream",
     "text": [
      "Warning message in fread(\"tubakaregex.txt\", header = F):\n",
      "“Found and resolved improper quoting in first 100 rows. If the fields are not quoted (e.g. field separator does not appear within any field), try quote=\"\" to avoid this warning.”\n"
     ]
    }
   ],
   "source": [
    "#Märksõnaotsingu tulemuste .txt faili teisendamine ning metaandmetega ühildumine.\n",
    "tekstid <- fread(\"tubakaregex.txt\",header=F)[,.(id=V1,txt=V2)]\n",
    "tekstid_metaga <- tekstid %>% left_join(subset_meta, by = c(\"id\" = \"LogicalSectionID\"))\n",
    "\n",
    "#Digilab tööriistadest leitud võimalus lehekülgede kaupa allikate leidmise jaoks, tõenäoliselt ei kasuta töös\n",
    "#segmenteerimata_tekstid <- tekstid <- fread(\"segmenteerimata_tubakaregex.txt\",header=F)[,.(id=V1,txt=V2)]\n",
    "#segmenteerimata_tekstid_metaga <- tekstid %>% left_join(subset_meta, by = c(\"id\" = \"LogicalSectionID\"))"
   ]
  },
  {
   "cell_type": "code",
   "execution_count": 7,
   "id": "329f7227-b15c-4e1e-afc0-40d3b79e7ee1",
   "metadata": {},
   "outputs": [
    {
     "data": {
      "text/html": [
       "<style>\n",
       ".list-inline {list-style: none; margin:0; padding: 0}\n",
       ".list-inline>li {display: inline-block}\n",
       ".list-inline>li:not(:last-child)::after {content: \"\\00b7\"; padding: 0 .5ex}\n",
       "</style>\n",
       "<ol class=list-inline><li>'id'</li><li>'txt'</li><li>'.id'</li><li>'docid'</li><li>'LogicalSectionFirstPageID'</li><li>'attrs'</li><li>'LogicalSectionTitle'</li><li>'LogicalSectionType'</li><li>'LogicalSectionViewURL'</li><li>'LogicalSectionTextWordCount'</li><li>'LogicalSectionPrevLogicalSectionID'</li><li>'LogicalSectionNextLogicalSectionID'</li><li>'PageOCRAccuracy'</li><li>'MeanOCRAccuracyVol'</li><li>'date'</li><li>'dateraw'</li><li>'year'</li><li>'decade'</li></ol>\n"
      ],
      "text/latex": [
       "\\begin{enumerate*}\n",
       "\\item 'id'\n",
       "\\item 'txt'\n",
       "\\item '.id'\n",
       "\\item 'docid'\n",
       "\\item 'LogicalSectionFirstPageID'\n",
       "\\item 'attrs'\n",
       "\\item 'LogicalSectionTitle'\n",
       "\\item 'LogicalSectionType'\n",
       "\\item 'LogicalSectionViewURL'\n",
       "\\item 'LogicalSectionTextWordCount'\n",
       "\\item 'LogicalSectionPrevLogicalSectionID'\n",
       "\\item 'LogicalSectionNextLogicalSectionID'\n",
       "\\item 'PageOCRAccuracy'\n",
       "\\item 'MeanOCRAccuracyVol'\n",
       "\\item 'date'\n",
       "\\item 'dateraw'\n",
       "\\item 'year'\n",
       "\\item 'decade'\n",
       "\\end{enumerate*}\n"
      ],
      "text/markdown": [
       "1. 'id'\n",
       "2. 'txt'\n",
       "3. '.id'\n",
       "4. 'docid'\n",
       "5. 'LogicalSectionFirstPageID'\n",
       "6. 'attrs'\n",
       "7. 'LogicalSectionTitle'\n",
       "8. 'LogicalSectionType'\n",
       "9. 'LogicalSectionViewURL'\n",
       "10. 'LogicalSectionTextWordCount'\n",
       "11. 'LogicalSectionPrevLogicalSectionID'\n",
       "12. 'LogicalSectionNextLogicalSectionID'\n",
       "13. 'PageOCRAccuracy'\n",
       "14. 'MeanOCRAccuracyVol'\n",
       "15. 'date'\n",
       "16. 'dateraw'\n",
       "17. 'year'\n",
       "18. 'decade'\n",
       "\n",
       "\n"
      ],
      "text/plain": [
       " [1] \"id\"                                 \"txt\"                               \n",
       " [3] \".id\"                                \"docid\"                             \n",
       " [5] \"LogicalSectionFirstPageID\"          \"attrs\"                             \n",
       " [7] \"LogicalSectionTitle\"                \"LogicalSectionType\"                \n",
       " [9] \"LogicalSectionViewURL\"              \"LogicalSectionTextWordCount\"       \n",
       "[11] \"LogicalSectionPrevLogicalSectionID\" \"LogicalSectionNextLogicalSectionID\"\n",
       "[13] \"PageOCRAccuracy\"                    \"MeanOCRAccuracyVol\"                \n",
       "[15] \"date\"                               \"dateraw\"                           \n",
       "[17] \"year\"                               \"decade\"                            "
      ]
     },
     "metadata": {},
     "output_type": "display_data"
    },
    {
     "data": {
      "text/html": [
       "<style>\n",
       ".list-inline {list-style: none; margin:0; padding: 0}\n",
       ".list-inline>li {display: inline-block}\n",
       ".list-inline>li:not(:last-child)::after {content: \"\\00b7\"; padding: 0 .5ex}\n",
       "</style>\n",
       "<ol class=list-inline><li>'id'</li><li>'txt'</li></ol>\n"
      ],
      "text/latex": [
       "\\begin{enumerate*}\n",
       "\\item 'id'\n",
       "\\item 'txt'\n",
       "\\end{enumerate*}\n"
      ],
      "text/markdown": [
       "1. 'id'\n",
       "2. 'txt'\n",
       "\n",
       "\n"
      ],
      "text/plain": [
       "[1] \"id\"  \"txt\""
      ]
     },
     "metadata": {},
     "output_type": "display_data"
    },
    {
     "data": {
      "text/html": [
       "<style>\n",
       ".list-inline {list-style: none; margin:0; padding: 0}\n",
       ".list-inline>li {display: inline-block}\n",
       ".list-inline>li:not(:last-child)::after {content: \"\\00b7\"; padding: 0 .5ex}\n",
       "</style>\n",
       "<ol class=list-inline><li>85614</li><li>18</li></ol>\n"
      ],
      "text/latex": [
       "\\begin{enumerate*}\n",
       "\\item 85614\n",
       "\\item 18\n",
       "\\end{enumerate*}\n"
      ],
      "text/markdown": [
       "1. 85614\n",
       "2. 18\n",
       "\n",
       "\n"
      ],
      "text/plain": [
       "[1] 85614    18"
      ]
     },
     "metadata": {},
     "output_type": "display_data"
    }
   ],
   "source": [
    "#Kontroll, kas andmed ühildunud.\n",
    "names(tekstid_metaga)\n",
    "names(tekstid)\n",
    "dim(tekstid_metaga)"
   ]
  },
  {
   "cell_type": "code",
   "execution_count": 8,
   "id": "74451dfd-b530-4ccf-95cb-4e6b8f37406a",
   "metadata": {},
   "outputs": [],
   "source": [
    "#Tekstid_metaga \"suits\" filtri loomine, et saada lahti suitsukalast, suitsuvorstist jms. Sõna \"suits\" peab esinema koos teiste sõnadega.\n",
    "#Filtreerime tekstid_metaga, kus on tubak|sigar|pabeross|suits, kuid suitsul on tingimus, et suits peab esinema koos teiste sõnadega.\n",
    "\n",
    "tekstid_metaga_filtered <- tekstid_metaga %>%\n",
    "    filter(\n",
    "    # Tingimus 1: Sisaldab 'sigar', 'pabeross' või 'tubak'\n",
    "        grepl(\"sigar|pabeross|tubak\", txt, ignore.case = TRUE) |\n",
    "    # VÕI Tingimus 2: Sisaldab 'suits' JA ('sigar', 'pabeross' või 'tubak')\n",
    "        (grepl(\"suits\", txt, ignore.case = TRUE) & grepl(\"sigar|pabeross|tubak\", txt, ignore.case = TRUE))\n",
    "      )"
   ]
  },
  {
   "cell_type": "code",
   "execution_count": 9,
   "id": "eb8419ce-7b46-465e-8c63-8ba2bae0a57e",
   "metadata": {},
   "outputs": [
    {
     "data": {
      "text/html": [
       "<style>\n",
       ".list-inline {list-style: none; margin:0; padding: 0}\n",
       ".list-inline>li {display: inline-block}\n",
       ".list-inline>li:not(:last-child)::after {content: \"\\00b7\"; padding: 0 .5ex}\n",
       "</style>\n",
       "<ol class=list-inline><li>46172</li><li>18</li></ol>\n"
      ],
      "text/latex": [
       "\\begin{enumerate*}\n",
       "\\item 46172\n",
       "\\item 18\n",
       "\\end{enumerate*}\n"
      ],
      "text/markdown": [
       "1. 46172\n",
       "2. 18\n",
       "\n",
       "\n"
      ],
      "text/plain": [
       "[1] 46172    18"
      ]
     },
     "metadata": {},
     "output_type": "display_data"
    },
    {
     "data": {
      "text/html": [
       "<style>\n",
       ".list-inline {list-style: none; margin:0; padding: 0}\n",
       ".list-inline>li {display: inline-block}\n",
       ".list-inline>li:not(:last-child)::after {content: \"\\00b7\"; padding: 0 .5ex}\n",
       "</style>\n",
       "<ol class=list-inline><li>85614</li><li>18</li></ol>\n"
      ],
      "text/latex": [
       "\\begin{enumerate*}\n",
       "\\item 85614\n",
       "\\item 18\n",
       "\\end{enumerate*}\n"
      ],
      "text/markdown": [
       "1. 85614\n",
       "2. 18\n",
       "\n",
       "\n"
      ],
      "text/plain": [
       "[1] 85614    18"
      ]
     },
     "metadata": {},
     "output_type": "display_data"
    }
   ],
   "source": [
    "dim(tekstid_metaga_filtered)\n",
    "dim(tekstid_metaga)"
   ]
  },
  {
   "cell_type": "code",
   "execution_count": 10,
   "id": "e3f5acb0-b857-4702-8ebd-9c9c82331ba0",
   "metadata": {},
   "outputs": [],
   "source": [
    "#andmestik\n",
    "write.csv(tekstid_metaga_filtered, file = \"tekstid_metaga.csv\", row.names = FALSE)"
   ]
  },
  {
   "cell_type": "code",
   "execution_count": 11,
   "id": "dae8b18e-0766-4554-867c-31587fa7e6c2",
   "metadata": {},
   "outputs": [
    {
     "name": "stderr",
     "output_type": "stream",
     "text": [
      "\u001b[1m\u001b[22m`summarise()` has grouped output by 'year'. You can override using the\n",
      "`.groups` argument.\n"
     ]
    },
    {
     "data": {
      "image/png": "[encoded data removed]",
      "text/plain": [
       "plot without title"
      ]
     },
     "metadata": {
      "image/png": {
       "height": 420,
       "width": 420
      }
     },
     "output_type": "display_data"
    }
   ],
   "source": [
    "#kui palju leidub reklaame, artikleid jms - lõputöö graafik\n",
    "subset_meta %>%\n",
    "  group_by(year, LogicalSectionType) %>%  #Grupeeri aastate ja tüüpidena.\n",
    "  summarise(count = n()) %>%  #Koguhulga saamine\n",
    "  ggplot(aes(x = year, y = count, fill = LogicalSectionType)) +  #x telg on aasta, y telg on hulk\n",
    "  geom_col() +  #barplot\n",
    "  labs(title = \"Ajalehed segmenteerituna läbi aastate\", \n",
    "       x = \"Aasta\", \n",
    "       y = \"Hulk\")  #teljepealkirjad"
   ]
  },
  {
   "cell_type": "code",
   "execution_count": 12,
   "id": "0a285569-b396-4f56-8492-3bb57e61cbd5",
   "metadata": {},
   "outputs": [],
   "source": [
    "#test lemmata analüüsiks\n",
    "#do_subset_search(searchterm = \"tubak|suits|sigar|pabeross\", searchfile = \"tubakaregexlemmata.txt\", subset)\n",
    "#tekstid_lemmata <- fread(\"tubakaregexlemmata.txt\",header=F)[,.(id=V1,txt=V2)]\n",
    "#tekstid_metaga_lemmata <- tekstid %>% left_join(subset_meta, by = c(\"id\" = \"LogicalSectionID\"))\n",
    "#write.csv(tekstid_metaga_lemmata, file = \"tekstid_metaga.csv\", row.names = FALSE)"
   ]
  },
  {
   "cell_type": "code",
   "execution_count": 13,
   "id": "467657d3-6468-4f2b-a482-61a99d731be9",
   "metadata": {},
   "outputs": [
    {
     "data": {
      "text/html": [
       "2471"
      ],
      "text/latex": [
       "2471"
      ],
      "text/markdown": [
       "2471"
      ],
      "text/plain": [
       "[1] 2471"
      ]
     },
     "metadata": {},
     "output_type": "display_data"
    }
   ],
   "source": [
    "#Vaatan, kui palju on uuseesti reklaame alaandmestikus.\n",
    "sum(str_detect(tekstid_metaga_filtered$id, \"uuseesti\"))\n"
   ]
  },
  {
   "cell_type": "code",
   "execution_count": 14,
   "id": "0de4da0f-5ec1-4136-909c-c4b2bf460a0c",
   "metadata": {},
   "outputs": [
    {
     "data": {
      "text/html": [
       "<style>\n",
       ".list-inline {list-style: none; margin:0; padding: 0}\n",
       ".list-inline>li {display: inline-block}\n",
       ".list-inline>li:not(:last-child)::after {content: \"\\00b7\"; padding: 0 .5ex}\n",
       "</style>\n",
       "<ol class=list-inline><li>17061</li><li>18</li></ol>\n"
      ],
      "text/latex": [
       "\\begin{enumerate*}\n",
       "\\item 17061\n",
       "\\item 18\n",
       "\\end{enumerate*}\n"
      ],
      "text/markdown": [
       "1. 17061\n",
       "2. 18\n",
       "\n",
       "\n"
      ],
      "text/plain": [
       "[1] 17061    18"
      ]
     },
     "metadata": {},
     "output_type": "display_data"
    }
   ],
   "source": [
    "#Piiritlen tekstid_metaga, et konkordantsid ühildada\n",
    "paevalehe_reklaamid <- tekstid_metaga_filtered %>%\n",
    "  filter(LogicalSectionType == \"ADVERTISEMENT\",\n",
    "         str_detect(docid, \"postimees|sakala|kaja|paevaleht|uuseesti\"))\n",
    "dim(paevalehe_reklaamid)\n",
    "\n",
    "#Vana tubakaregex.txt tulemusega oli mul 23 654 suurune \"paevalehe_reklaamid\" andmestik, nüüd on mul 17 061 tulemust. Tulemus klapib, kuna bakat66.Rmd tehtud \"suits2\" data frame suurus on 2130 ning \"suits\" data frame suurus 8687 ja need üksteisest lahutada annab sama tulemuse mis 23 654 - 17 061."
   ]
  },
  {
   "cell_type": "code",
   "execution_count": 15,
   "id": "c187626b-8fc8-407f-a8d2-f364657a539c",
   "metadata": {},
   "outputs": [
    {
     "data": {
      "text/html": [
       "554"
      ],
      "text/latex": [
       "554"
      ],
      "text/markdown": [
       "554"
      ],
      "text/plain": [
       "[1] 554"
      ]
     },
     "metadata": {},
     "output_type": "display_data"
    }
   ],
   "source": [
    "#Vaatan, kui palju on uueesti reklaame tubakakorpuses.\n",
    "sum(str_detect(paevalehe_reklaamid$id, \"uuseesti\"))"
   ]
  },
  {
   "cell_type": "code",
   "execution_count": 16,
   "id": "5ac4b447-7820-4c7a-bf26-9c328bb08b55",
   "metadata": {},
   "outputs": [
    {
     "data": {
      "text/html": [
       "<style>\n",
       ".list-inline {list-style: none; margin:0; padding: 0}\n",
       ".list-inline>li {display: inline-block}\n",
       ".list-inline>li:not(:last-child)::after {content: \"\\00b7\"; padding: 0 .5ex}\n",
       "</style>\n",
       "<ol class=list-inline><li>34855</li><li>21</li></ol>\n"
      ],
      "text/latex": [
       "\\begin{enumerate*}\n",
       "\\item 34855\n",
       "\\item 21\n",
       "\\end{enumerate*}\n"
      ],
      "text/markdown": [
       "1. 34855\n",
       "2. 21\n",
       "\n",
       "\n"
      ],
      "text/plain": [
       "[1] 34855    21"
      ]
     },
     "metadata": {},
     "output_type": "display_data"
    }
   ],
   "source": [
    "#Järgmisena, et teha korraliku analüüsi sõnadele, hangin konkordantsid, kuna suur osa reklaame pole eraldi kategoriseeritud, vaid nt ühe reklaami alla võib kuuluta kuni 10 reklaami.\n",
    "\n",
    "concs100 <- get_concordances(searchterm=\"(?i)tubak|suits|sigar|pabeross\",texts=paevalehe_reklaamid,before=100,after=100,txt=\"txt\",id=\"id\")\n",
    "#(?i)\\\\btubak[[:alpha:]]*|\\\\bsigar[[:alpha:]]*|\\\\bpabeross[[:alpha:]]* tubak|suits|sigar|pabeross (?i).*tubak.*|.*suits.*|.*sigar.*|.*pabeross.*|.*sigaret.*\n",
    "dim(concs100)\n",
    "\n",
    "write.csv(concs100, file = \"concs100.csv\", row.names = FALSE)"
   ]
  },
  {
   "cell_type": "code",
   "execution_count": 17,
   "id": "54a2673c-7692-4113-b869-969ef3f1c6e2",
   "metadata": {},
   "outputs": [
    {
     "data": {
      "text/html": [
       "<style>\n",
       ".list-inline {list-style: none; margin:0; padding: 0}\n",
       ".list-inline>li {display: inline-block}\n",
       ".list-inline>li:not(:last-child)::after {content: \"\\00b7\"; padding: 0 .5ex}\n",
       "</style>\n",
       "<ol class=list-inline><li>34855</li><li>21</li></ol>\n"
      ],
      "text/latex": [
       "\\begin{enumerate*}\n",
       "\\item 34855\n",
       "\\item 21\n",
       "\\end{enumerate*}\n"
      ],
      "text/markdown": [
       "1. 34855\n",
       "2. 21\n",
       "\n",
       "\n"
      ],
      "text/plain": [
       "[1] 34855    21"
      ]
     },
     "metadata": {},
     "output_type": "display_data"
    },
    {
     "data": {
      "text/html": [
       "<style>\n",
       ".list-inline {list-style: none; margin:0; padding: 0}\n",
       ".list-inline>li {display: inline-block}\n",
       ".list-inline>li:not(:last-child)::after {content: \"\\00b7\"; padding: 0 .5ex}\n",
       "</style>\n",
       "<ol class=list-inline><li>'id'</li><li>'txt'</li><li>'.id'</li><li>'docid'</li><li>'LogicalSectionFirstPageID'</li><li>'attrs'</li><li>'LogicalSectionTitle'</li><li>'LogicalSectionType'</li><li>'LogicalSectionViewURL'</li><li>'LogicalSectionTextWordCount'</li><li>'LogicalSectionPrevLogicalSectionID'</li><li>'LogicalSectionNextLogicalSectionID'</li><li>'PageOCRAccuracy'</li><li>'MeanOCRAccuracyVol'</li><li>'date'</li><li>'dateraw'</li><li>'year'</li><li>'decade'</li></ol>\n"
      ],
      "text/latex": [
       "\\begin{enumerate*}\n",
       "\\item 'id'\n",
       "\\item 'txt'\n",
       "\\item '.id'\n",
       "\\item 'docid'\n",
       "\\item 'LogicalSectionFirstPageID'\n",
       "\\item 'attrs'\n",
       "\\item 'LogicalSectionTitle'\n",
       "\\item 'LogicalSectionType'\n",
       "\\item 'LogicalSectionViewURL'\n",
       "\\item 'LogicalSectionTextWordCount'\n",
       "\\item 'LogicalSectionPrevLogicalSectionID'\n",
       "\\item 'LogicalSectionNextLogicalSectionID'\n",
       "\\item 'PageOCRAccuracy'\n",
       "\\item 'MeanOCRAccuracyVol'\n",
       "\\item 'date'\n",
       "\\item 'dateraw'\n",
       "\\item 'year'\n",
       "\\item 'decade'\n",
       "\\end{enumerate*}\n"
      ],
      "text/markdown": [
       "1. 'id'\n",
       "2. 'txt'\n",
       "3. '.id'\n",
       "4. 'docid'\n",
       "5. 'LogicalSectionFirstPageID'\n",
       "6. 'attrs'\n",
       "7. 'LogicalSectionTitle'\n",
       "8. 'LogicalSectionType'\n",
       "9. 'LogicalSectionViewURL'\n",
       "10. 'LogicalSectionTextWordCount'\n",
       "11. 'LogicalSectionPrevLogicalSectionID'\n",
       "12. 'LogicalSectionNextLogicalSectionID'\n",
       "13. 'PageOCRAccuracy'\n",
       "14. 'MeanOCRAccuracyVol'\n",
       "15. 'date'\n",
       "16. 'dateraw'\n",
       "17. 'year'\n",
       "18. 'decade'\n",
       "\n",
       "\n"
      ],
      "text/plain": [
       " [1] \"id\"                                 \"txt\"                               \n",
       " [3] \".id\"                                \"docid\"                             \n",
       " [5] \"LogicalSectionFirstPageID\"          \"attrs\"                             \n",
       " [7] \"LogicalSectionTitle\"                \"LogicalSectionType\"                \n",
       " [9] \"LogicalSectionViewURL\"              \"LogicalSectionTextWordCount\"       \n",
       "[11] \"LogicalSectionPrevLogicalSectionID\" \"LogicalSectionNextLogicalSectionID\"\n",
       "[13] \"PageOCRAccuracy\"                    \"MeanOCRAccuracyVol\"                \n",
       "[15] \"date\"                               \"dateraw\"                           \n",
       "[17] \"year\"                               \"decade\"                            "
      ]
     },
     "metadata": {},
     "output_type": "display_data"
    },
    {
     "data": {
      "text/html": [
       "<style>\n",
       ".list-inline {list-style: none; margin:0; padding: 0}\n",
       ".list-inline>li {display: inline-block}\n",
       ".list-inline>li:not(:last-child)::after {content: \"\\00b7\"; padding: 0 .5ex}\n",
       "</style>\n",
       "<ol class=list-inline><li>'id'</li><li>'.id'</li><li>'docid'</li><li>'LogicalSectionFirstPageID'</li><li>'attrs'</li><li>'LogicalSectionTitle'</li><li>'LogicalSectionType'</li><li>'LogicalSectionViewURL'</li><li>'LogicalSectionTextWordCount'</li><li>'LogicalSectionPrevLogicalSectionID'</li><li>'LogicalSectionNextLogicalSectionID'</li><li>'PageOCRAccuracy'</li><li>'MeanOCRAccuracyVol'</li><li>'date'</li><li>'dateraw'</li><li>'year'</li><li>'decade'</li><li>'nr'</li><li>'begin'</li><li>'end'</li><li>'context'</li></ol>\n"
      ],
      "text/latex": [
       "\\begin{enumerate*}\n",
       "\\item 'id'\n",
       "\\item '.id'\n",
       "\\item 'docid'\n",
       "\\item 'LogicalSectionFirstPageID'\n",
       "\\item 'attrs'\n",
       "\\item 'LogicalSectionTitle'\n",
       "\\item 'LogicalSectionType'\n",
       "\\item 'LogicalSectionViewURL'\n",
       "\\item 'LogicalSectionTextWordCount'\n",
       "\\item 'LogicalSectionPrevLogicalSectionID'\n",
       "\\item 'LogicalSectionNextLogicalSectionID'\n",
       "\\item 'PageOCRAccuracy'\n",
       "\\item 'MeanOCRAccuracyVol'\n",
       "\\item 'date'\n",
       "\\item 'dateraw'\n",
       "\\item 'year'\n",
       "\\item 'decade'\n",
       "\\item 'nr'\n",
       "\\item 'begin'\n",
       "\\item 'end'\n",
       "\\item 'context'\n",
       "\\end{enumerate*}\n"
      ],
      "text/markdown": [
       "1. 'id'\n",
       "2. '.id'\n",
       "3. 'docid'\n",
       "4. 'LogicalSectionFirstPageID'\n",
       "5. 'attrs'\n",
       "6. 'LogicalSectionTitle'\n",
       "7. 'LogicalSectionType'\n",
       "8. 'LogicalSectionViewURL'\n",
       "9. 'LogicalSectionTextWordCount'\n",
       "10. 'LogicalSectionPrevLogicalSectionID'\n",
       "11. 'LogicalSectionNextLogicalSectionID'\n",
       "12. 'PageOCRAccuracy'\n",
       "13. 'MeanOCRAccuracyVol'\n",
       "14. 'date'\n",
       "15. 'dateraw'\n",
       "16. 'year'\n",
       "17. 'decade'\n",
       "18. 'nr'\n",
       "19. 'begin'\n",
       "20. 'end'\n",
       "21. 'context'\n",
       "\n",
       "\n"
      ],
      "text/plain": [
       " [1] \"id\"                                 \".id\"                               \n",
       " [3] \"docid\"                              \"LogicalSectionFirstPageID\"         \n",
       " [5] \"attrs\"                              \"LogicalSectionTitle\"               \n",
       " [7] \"LogicalSectionType\"                 \"LogicalSectionViewURL\"             \n",
       " [9] \"LogicalSectionTextWordCount\"        \"LogicalSectionPrevLogicalSectionID\"\n",
       "[11] \"LogicalSectionNextLogicalSectionID\" \"PageOCRAccuracy\"                   \n",
       "[13] \"MeanOCRAccuracyVol\"                 \"date\"                              \n",
       "[15] \"dateraw\"                            \"year\"                              \n",
       "[17] \"decade\"                             \"nr\"                                \n",
       "[19] \"begin\"                              \"end\"                               \n",
       "[21] \"context\"                           "
      ]
     },
     "metadata": {},
     "output_type": "display_data"
    },
    {
     "data": {
      "text/html": [
       "<style>\n",
       ".list-inline {list-style: none; margin:0; padding: 0}\n",
       ".list-inline>li {display: inline-block}\n",
       ".list-inline>li:not(:last-child)::after {content: \"\\00b7\"; padding: 0 .5ex}\n",
       "</style>\n",
       "<ol class=list-inline><li>34855</li><li>21</li></ol>\n"
      ],
      "text/latex": [
       "\\begin{enumerate*}\n",
       "\\item 34855\n",
       "\\item 21\n",
       "\\end{enumerate*}\n"
      ],
      "text/markdown": [
       "1. 34855\n",
       "2. 21\n",
       "\n",
       "\n"
      ],
      "text/plain": [
       "[1] 34855    21"
      ]
     },
     "metadata": {},
     "output_type": "display_data"
    },
    {
     "data": {
      "text/html": [
       "<style>\n",
       ".list-inline {list-style: none; margin:0; padding: 0}\n",
       ".list-inline>li {display: inline-block}\n",
       ".list-inline>li:not(:last-child)::after {content: \"\\00b7\"; padding: 0 .5ex}\n",
       "</style>\n",
       "<ol class=list-inline><li>'id'</li><li>'txt'</li><li>'.id'</li><li>'docid'</li><li>'LogicalSectionFirstPageID'</li><li>'attrs'</li><li>'LogicalSectionTitle'</li><li>'LogicalSectionType'</li><li>'LogicalSectionViewURL'</li><li>'LogicalSectionTextWordCount'</li><li>'LogicalSectionPrevLogicalSectionID'</li><li>'LogicalSectionNextLogicalSectionID'</li><li>'PageOCRAccuracy'</li><li>'MeanOCRAccuracyVol'</li><li>'date'</li><li>'dateraw'</li><li>'year'</li><li>'decade'</li><li>'begin'</li><li>'end'</li><li>'context'</li></ol>\n"
      ],
      "text/latex": [
       "\\begin{enumerate*}\n",
       "\\item 'id'\n",
       "\\item 'txt'\n",
       "\\item '.id'\n",
       "\\item 'docid'\n",
       "\\item 'LogicalSectionFirstPageID'\n",
       "\\item 'attrs'\n",
       "\\item 'LogicalSectionTitle'\n",
       "\\item 'LogicalSectionType'\n",
       "\\item 'LogicalSectionViewURL'\n",
       "\\item 'LogicalSectionTextWordCount'\n",
       "\\item 'LogicalSectionPrevLogicalSectionID'\n",
       "\\item 'LogicalSectionNextLogicalSectionID'\n",
       "\\item 'PageOCRAccuracy'\n",
       "\\item 'MeanOCRAccuracyVol'\n",
       "\\item 'date'\n",
       "\\item 'dateraw'\n",
       "\\item 'year'\n",
       "\\item 'decade'\n",
       "\\item 'begin'\n",
       "\\item 'end'\n",
       "\\item 'context'\n",
       "\\end{enumerate*}\n"
      ],
      "text/markdown": [
       "1. 'id'\n",
       "2. 'txt'\n",
       "3. '.id'\n",
       "4. 'docid'\n",
       "5. 'LogicalSectionFirstPageID'\n",
       "6. 'attrs'\n",
       "7. 'LogicalSectionTitle'\n",
       "8. 'LogicalSectionType'\n",
       "9. 'LogicalSectionViewURL'\n",
       "10. 'LogicalSectionTextWordCount'\n",
       "11. 'LogicalSectionPrevLogicalSectionID'\n",
       "12. 'LogicalSectionNextLogicalSectionID'\n",
       "13. 'PageOCRAccuracy'\n",
       "14. 'MeanOCRAccuracyVol'\n",
       "15. 'date'\n",
       "16. 'dateraw'\n",
       "17. 'year'\n",
       "18. 'decade'\n",
       "19. 'begin'\n",
       "20. 'end'\n",
       "21. 'context'\n",
       "\n",
       "\n"
      ],
      "text/plain": [
       " [1] \"id\"                                 \"txt\"                               \n",
       " [3] \".id\"                                \"docid\"                             \n",
       " [5] \"LogicalSectionFirstPageID\"          \"attrs\"                             \n",
       " [7] \"LogicalSectionTitle\"                \"LogicalSectionType\"                \n",
       " [9] \"LogicalSectionViewURL\"              \"LogicalSectionTextWordCount\"       \n",
       "[11] \"LogicalSectionPrevLogicalSectionID\" \"LogicalSectionNextLogicalSectionID\"\n",
       "[13] \"PageOCRAccuracy\"                    \"MeanOCRAccuracyVol\"                \n",
       "[15] \"date\"                               \"dateraw\"                           \n",
       "[17] \"year\"                               \"decade\"                            \n",
       "[19] \"begin\"                              \"end\"                               \n",
       "[21] \"context\"                           "
      ]
     },
     "metadata": {},
     "output_type": "display_data"
    },
    {
     "data": {
      "text/html": [
       "<style>\n",
       ".list-inline {list-style: none; margin:0; padding: 0}\n",
       ".list-inline>li {display: inline-block}\n",
       ".list-inline>li:not(:last-child)::after {content: \"\\00b7\"; padding: 0 .5ex}\n",
       "</style>\n",
       "<ol class=list-inline><li>17061</li><li>21</li></ol>\n"
      ],
      "text/latex": [
       "\\begin{enumerate*}\n",
       "\\item 17061\n",
       "\\item 21\n",
       "\\end{enumerate*}\n"
      ],
      "text/markdown": [
       "1. 17061\n",
       "2. 21\n",
       "\n",
       "\n"
      ],
      "text/plain": [
       "[1] 17061    21"
      ]
     },
     "metadata": {},
     "output_type": "display_data"
    },
    {
     "data": {
      "text/html": [
       "<style>\n",
       ".list-inline {list-style: none; margin:0; padding: 0}\n",
       ".list-inline>li {display: inline-block}\n",
       ".list-inline>li:not(:last-child)::after {content: \"\\00b7\"; padding: 0 .5ex}\n",
       "</style>\n",
       "<ol class=list-inline><li>'id'</li><li>'txt'</li><li>'.id'</li><li>'docid'</li><li>'LogicalSectionFirstPageID'</li><li>'attrs'</li><li>'LogicalSectionTitle'</li><li>'LogicalSectionType'</li><li>'LogicalSectionViewURL'</li><li>'LogicalSectionTextWordCount'</li><li>'LogicalSectionPrevLogicalSectionID'</li><li>'LogicalSectionNextLogicalSectionID'</li><li>'PageOCRAccuracy'</li><li>'MeanOCRAccuracyVol'</li><li>'date'</li><li>'dateraw'</li><li>'year'</li><li>'decade'</li><li>'begin'</li><li>'end'</li><li>'context'</li></ol>\n"
      ],
      "text/latex": [
       "\\begin{enumerate*}\n",
       "\\item 'id'\n",
       "\\item 'txt'\n",
       "\\item '.id'\n",
       "\\item 'docid'\n",
       "\\item 'LogicalSectionFirstPageID'\n",
       "\\item 'attrs'\n",
       "\\item 'LogicalSectionTitle'\n",
       "\\item 'LogicalSectionType'\n",
       "\\item 'LogicalSectionViewURL'\n",
       "\\item 'LogicalSectionTextWordCount'\n",
       "\\item 'LogicalSectionPrevLogicalSectionID'\n",
       "\\item 'LogicalSectionNextLogicalSectionID'\n",
       "\\item 'PageOCRAccuracy'\n",
       "\\item 'MeanOCRAccuracyVol'\n",
       "\\item 'date'\n",
       "\\item 'dateraw'\n",
       "\\item 'year'\n",
       "\\item 'decade'\n",
       "\\item 'begin'\n",
       "\\item 'end'\n",
       "\\item 'context'\n",
       "\\end{enumerate*}\n"
      ],
      "text/markdown": [
       "1. 'id'\n",
       "2. 'txt'\n",
       "3. '.id'\n",
       "4. 'docid'\n",
       "5. 'LogicalSectionFirstPageID'\n",
       "6. 'attrs'\n",
       "7. 'LogicalSectionTitle'\n",
       "8. 'LogicalSectionType'\n",
       "9. 'LogicalSectionViewURL'\n",
       "10. 'LogicalSectionTextWordCount'\n",
       "11. 'LogicalSectionPrevLogicalSectionID'\n",
       "12. 'LogicalSectionNextLogicalSectionID'\n",
       "13. 'PageOCRAccuracy'\n",
       "14. 'MeanOCRAccuracyVol'\n",
       "15. 'date'\n",
       "16. 'dateraw'\n",
       "17. 'year'\n",
       "18. 'decade'\n",
       "19. 'begin'\n",
       "20. 'end'\n",
       "21. 'context'\n",
       "\n",
       "\n"
      ],
      "text/plain": [
       " [1] \"id\"                                 \"txt\"                               \n",
       " [3] \".id\"                                \"docid\"                             \n",
       " [5] \"LogicalSectionFirstPageID\"          \"attrs\"                             \n",
       " [7] \"LogicalSectionTitle\"                \"LogicalSectionType\"                \n",
       " [9] \"LogicalSectionViewURL\"              \"LogicalSectionTextWordCount\"       \n",
       "[11] \"LogicalSectionPrevLogicalSectionID\" \"LogicalSectionNextLogicalSectionID\"\n",
       "[13] \"PageOCRAccuracy\"                    \"MeanOCRAccuracyVol\"                \n",
       "[15] \"date\"                               \"dateraw\"                           \n",
       "[17] \"year\"                               \"decade\"                            \n",
       "[19] \"begin\"                              \"end\"                               \n",
       "[21] \"context\"                           "
      ]
     },
     "metadata": {},
     "output_type": "display_data"
    }
   ],
   "source": [
    "dim(concs100)\n",
    "names(paevalehe_reklaamid)\n",
    "names(concs100)\n",
    "#Kuna on näha, et konkordantsid leiavad \"ühes\" reklaamis mitu tulemust nende märksõnadega, ühildan ma korduvad tulemused ühe id alla.\n",
    "#Tahan iga dokumendi kohta vaid ühe tulemuse (nt ainult esimene leitud kontekst)\n",
    "\n",
    "combined <- paevalehe_reklaamid %>%\n",
    "    left_join(concs100 %>% select(id, begin, end, context), by = \"id\")\n",
    "\n",
    "dim(combined)\n",
    "names(combined)\n",
    "\n",
    "paevalehe_reklaamid_concs <- combined %>%\n",
    "    group_by(id) %>%\n",
    "    slice(1) %>%\n",
    "    ungroup() #%>%\n",
    "\n",
    "dim(paevalehe_reklaamid_concs)\n",
    "names(paevalehe_reklaamid_concs)"
   ]
  },
  {
   "cell_type": "code",
   "execution_count": 18,
   "id": "3e70fa12-a842-4faf-8612-8e77c3221618",
   "metadata": {},
   "outputs": [],
   "source": [
    "write.csv(paevalehe_reklaamid_concs, file = \"paevalehe_reklaamid_concs.csv\", row.names = FALSE)"
   ]
  }
 ],
 "metadata": {
  "kernelspec": {
   "display_name": "R 4.4.2",
   "language": "R",
   "name": "ir-4.4.2v2"
  },
  "language_info": {
   "codemirror_mode": "r",
   "file_extension": ".r",
   "mimetype": "text/x-r-source",
   "name": "R",
   "pygments_lexer": "r",
   "version": "4.4.2"
  }
 },
 "nbformat": 4,
 "nbformat_minor": 5
}
